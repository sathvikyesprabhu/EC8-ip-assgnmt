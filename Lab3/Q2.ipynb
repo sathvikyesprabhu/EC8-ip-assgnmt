{
 "cells": [
  {
   "cell_type": "markdown",
   "metadata": {},
   "source": [
    " Q.2. (a) Write python from scratch for computing 2D DFT{X(k,l)} of the following 2D array\n",
    "\n",
    " (i) x(m,n) = np.array([[1, 0],[2, 1]])                  (ii) x(m,n) = np.array([[1,2, 3,4], [5, 6, 7, 8], [9,10,11,12], [13,14,15,16]])\n",
    "\n",
    " (b) Verify the results of part (a) by analytical solution method ( i.e. pen and paper based solution)"
   ]
  },
  {
   "cell_type": "code",
   "execution_count": 1,
   "metadata": {},
   "outputs": [
    {
     "name": "stdout",
     "output_type": "stream",
     "text": [
      "[[ 4.+0.j  2.-0.j]\n",
      " [-2.-0.j  0.+0.j]]\n",
      "\n",
      " [[136. +0.j  -8. +8.j  -8. -0.j  -8. -8.j]\n",
      " [-32.+32.j   0. +0.j   0. +0.j  -0. +0.j]\n",
      " [-32. -0.j   0. +0.j   0. +0.j  -0. +0.j]\n",
      " [-32.-32.j  -0. +0.j  -0. +0.j  -0. +0.j]]\n"
     ]
    }
   ],
   "source": [
    "import numpy as np\n",
    "import cmath\n",
    "\n",
    "def DFT2D(x):\n",
    "    M, N = x.shape\n",
    "    dft2d = np.zeros((M,N),dtype=complex)\n",
    "    for k in range(M):\n",
    "        for l in range(N):\n",
    "            sum_matrix = 0.0\n",
    "            for m in range(M):\n",
    "                for n in range(N):\n",
    "                    e = cmath.exp(- 2j * np.pi * ((k * m) / M + (l * n) / N))\n",
    "                    sum_matrix +=  x[m,n] * e\n",
    "            dft2d[k,l] = sum_matrix\n",
    "    return dft2d\n",
    "\n",
    "x1=np.array([[1, 0],[2, 1]])\n",
    "y1=np.round(DFT2D(x1),2)\n",
    "print(y1)\n",
    "\n",
    "x2=np.array([[1,2, 3,4], [5, 6, 7, 8], [9,10,11,12], [13,14,15,16]])\n",
    "y2=np.round(DFT2D(x2),2)\n",
    "print(\"\\n\",y2)"
   ]
  },
  {
   "cell_type": "code",
   "execution_count": null,
   "metadata": {},
   "outputs": [],
   "source": []
  }
 ],
 "metadata": {
  "kernelspec": {
   "display_name": "Python 3",
   "language": "python",
   "name": "python3"
  },
  "language_info": {
   "codemirror_mode": {
    "name": "ipython",
    "version": 3
   },
   "file_extension": ".py",
   "mimetype": "text/x-python",
   "name": "python",
   "nbconvert_exporter": "python",
   "pygments_lexer": "ipython3",
   "version": "3.8.5"
  }
 },
 "nbformat": 4,
 "nbformat_minor": 2
}
